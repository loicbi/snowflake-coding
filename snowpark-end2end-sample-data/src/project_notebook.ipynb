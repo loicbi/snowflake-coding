{
 "cells": [
  {
   "cell_type": "markdown",
   "metadata": {},
   "source": [
    "###  00-connectivity"
   ]
  },
  {
   "cell_type": "code",
   "execution_count": 1,
   "metadata": {},
   "outputs": [],
   "source": [
    "''' ENV CONFIGURATION '''\n",
    "# pip install python-dotenv\n",
    "import os\n",
    "from dotenv import load_dotenv\n",
    "\n",
    "dotenv_path = os.path.join(os.getcwd(), \".env\")  # Replace \".env\" with the actual file path if it's in a different location\n",
    "load_dotenv(dotenv_path=dotenv_path, override=True)\n",
    "\n",
    "ACCOUNT = os.environ.get(\"ACCOUNT\", \"default\")\n",
    "USER = os.environ.get(\"USER\", \"default\")\n",
    "PASSWORD = os.environ.get(\"PASSWORD\", \"default\")\n",
    "ROLE = os.environ.get(\"ROLE\", \"default\")\n",
    "WAREHOUSE = os.environ.get(\"WAREHOUSE\", \"default\")\n",
    "# a3491fb2-000f-4d9f-943e-127cfe29c39c"
   ]
  },
  {
   "cell_type": "markdown",
   "metadata": {},
   "source": [
    "## STEP 01 - CREATE USER AND WH "
   ]
  },
  {
   "cell_type": "code",
   "execution_count": 3,
   "metadata": {},
   "outputs": [
    {
     "name": "stdout",
     "output_type": "stream",
     "text": [
      "{'ACCOUNT': 'mckesson.canada-central.azure', 'USER': 'SSIS_INGEST_AU', 'PASSWORD': 'Ev?PAGOnAscT', 'ROLE': 'DEV_ENT_DW_ENGINEER_FR', 'DATABASE': 'DEMO_DB', 'SCHEMA': 'ALF_SNOWPARK', 'WAREHOUSE': 'DEMO_WH'}\n",
      "08:35:43 - INFO - Snowflake Connector for Python Version: 3.7.1, Python Version: 3.8.8, Platform: Windows-10-10.0.22621-SP0\n",
      "08:35:43 - INFO - This connection is in OCSP Fail Open Mode. TLS Certificates would be checked for validity and revocation status. Any other Certificate Revocation related exceptions or OCSP Responder failures would be disregarded in favor of connectivity.\n",
      "08:35:44 - INFO - Snowpark Session information: \n",
      "\"version\" : 1.14.0,\n",
      "\"python.version\" : 3.8.8rc1,\n",
      "\"python.connector.version\" : 3.7.1,\n",
      "\"python.connector.session.id\" : 343664821690,\n",
      "\"os.name\" : Windows\n",
      "\n",
      "08:35:44 - INFO - query: [select current_role(), current_database(), current_schema(), current_warehouse()...]\n",
      "08:35:45 - INFO - query execution done\n",
      "08:35:45 - INFO - Number of results in first chunk: 0\n",
      "08:35:45 - INFO - query: [SELECT  *  FROM (select current_role(), current_database(), current_schema(), cu...]\n",
      "08:35:45 - INFO - query execution done\n",
      "08:35:45 - INFO - Number of results in first chunk: 1\n",
      "----------------------------------------------------------------------------------------------\n",
      "|\"CURRENT_ROLE()\"        |\"CURRENT_DATABASE()\"  |\"CURRENT_SCHEMA()\"  |\"CURRENT_WAREHOUSE()\"  |\n",
      "----------------------------------------------------------------------------------------------\n",
      "|DEV_ENT_DW_ENGINEER_FR  |DEMO_DB               |ALF_SNOWPARK        |DEMO_WH                |\n",
      "----------------------------------------------------------------------------------------------\n",
      "\n",
      "08:35:45 - INFO - query: [select c_custkey,c_name,c_phone,c_mktsegment from snowflake_sample_data.tpch_sf1...]\n",
      "08:35:45 - INFO - query execution done\n",
      "08:35:45 - INFO - Number of results in first chunk: 0\n",
      "08:35:45 - INFO - query: [SELECT  *  FROM (select c_custkey,c_name,c_phone,c_mktsegment from snowflake_sam...]\n",
      "08:35:45 - INFO - query execution done\n",
      "08:35:45 - INFO - Number of results in first chunk: 5\n",
      "-----------------------------------------------------------------------\n",
      "|\"C_CUSTKEY\"  |\"C_NAME\"            |\"C_PHONE\"        |\"C_MKTSEGMENT\"  |\n",
      "-----------------------------------------------------------------------\n",
      "|60001        |Customer#000060001  |24-678-784-9652  |HOUSEHOLD       |\n",
      "|60002        |Customer#000060002  |25-782-500-8435  |BUILDING        |\n",
      "|60003        |Customer#000060003  |26-859-847-7640  |BUILDING        |\n",
      "|60004        |Customer#000060004  |20-573-674-7999  |AUTOMOBILE      |\n",
      "|60005        |Customer#000060005  |22-741-208-1316  |MACHINERY       |\n",
      "-----------------------------------------------------------------------\n",
      "\n"
     ]
    }
   ],
   "source": [
    "from snowflake.snowpark import Session\n",
    "import sys\n",
    "import logging\n",
    "\n",
    "# initiate logging at info level\n",
    "logging.basicConfig(stream=sys.stdout, level=logging.INFO, format='%(asctime)s - %(levelname)s - %(message)s', datefmt='%I:%M:%S')\n",
    "\n",
    "# snowpark session\n",
    "def get_snowpark_session() -> Session:\n",
    "    connection_parameters =  {\n",
    "       \"ACCOUNT\":ACCOUNT,\n",
    "        \"USER\":USER,\n",
    "        \"PASSWORD\":PASSWORD,\n",
    "        \"ROLE\":ROLE,\n",
    "        \"DATABASE\":\"DEMO_DB\",\n",
    "        \"SCHEMA\":\"ALF_SNOWPARK\",\n",
    "        \"WAREHOUSE\":WAREHOUSE\n",
    "    }\n",
    "    print(connection_parameters)\n",
    "    # creating snowflake session object\n",
    "    return Session.builder.configs(connection_parameters).create()   \n",
    "\n",
    "def main():\n",
    "    session = get_snowpark_session()\n",
    "    \n",
    "    context_df = session.sql(\"select current_role(), current_database(), current_schema(), current_warehouse()\")\n",
    "    context_df.show(2)\n",
    "\n",
    "    customer_df = session.sql(\"select c_custkey,c_name,c_phone,c_mktsegment from snowflake_sample_data.tpch_sf1.customer limit 10\")\n",
    "    customer_df.show(5)\n",
    "\n",
    "if __name__ == '__main__':\n",
    "    main()  \n"
   ]
  },
  {
   "cell_type": "markdown",
   "metadata": {},
   "source": [
    "## STEP 02 - CREATE SCHEMA "
   ]
  },
  {
   "cell_type": "code",
   "execution_count": null,
   "metadata": {
    "vscode": {
     "languageId": "sql"
    }
   },
   "outputs": [],
   "source": [
    "-- YOU EXECUTE ON FILE SQL \n",
    "\n",
    "create schema if not exists DEMO_DB.ALF_SOURCE; -- will have source stage etc\n",
    "create schema if not exists DEMO_DB.ALF_CURATED; -- data curation and de-duplication\n",
    "create schema if not exists DEMO_DB.ALF_consumption; -- fact & dimension\n",
    "create schema if not exists DEMO_DB.ALF_audit; -- to capture all audit records\n",
    "create schema if not exists DEMO_DB.ALF_common; -- for file formats sequence object etc"
   ]
  },
  {
   "cell_type": "markdown",
   "metadata": {},
   "source": [
    "## STEP 03 - CREATE INTERNAL STAGE IN SOURCE SCHEMA "
   ]
  },
  {
   "cell_type": "code",
   "execution_count": null,
   "metadata": {
    "vscode": {
     "languageId": "sql"
    }
   },
   "outputs": [],
   "source": [
    "CREATE STAGE IF NOT EXISTS DEMO_DB.ALF_SOURCE.MY_INTERNAL_STAGE;"
   ]
  }
 ],
 "metadata": {
  "kernelspec": {
   "display_name": "ai_env",
   "language": "python",
   "name": "python3"
  },
  "language_info": {
   "codemirror_mode": {
    "name": "ipython",
    "version": 3
   },
   "file_extension": ".py",
   "mimetype": "text/x-python",
   "name": "python",
   "nbconvert_exporter": "python",
   "pygments_lexer": "ipython3",
   "version": "3.8.8rc1"
  }
 },
 "nbformat": 4,
 "nbformat_minor": 2
}
