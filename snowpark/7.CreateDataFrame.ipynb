{
 "cells": [
  {
   "cell_type": "code",
   "execution_count": null,
   "id": "7727bd62",
   "metadata": {},
   "outputs": [],
   "source": [
    "import os\n",
    "import snowflake.snowpark.functions\n",
    "from snowflake.snowpark import Session\n",
    "from snowflake.snowpark.functions import col\n",
    "import time\n"
   ]
  },
  {
   "cell_type": "code",
   "execution_count": null,
   "id": "c4cc45a6",
   "metadata": {},
   "outputs": [],
   "source": [
    "connection_parameters = {\n",
    "    \"user\":'andreloicfreddy.seka@mckesson.ca',\n",
    "    \"authenticator\":'externalbrowser',\n",
    "    # \"user\":'DEV_SSIS_INGEST_AU',\n",
    "    # \"password\":'PbIXsy$3yg7o=M[f',\n",
    "    \"account\":'mckesson.canada-central.azure',\n",
    "    \"warehouse\": \"DEMO_WH\",\n",
    "    \"database\": \"DEMO_DB\",\n",
    "    \"schema\": \"PUBLIC\"\n",
    "}"
   ]
  },
  {
   "cell_type": "code",
   "execution_count": null,
   "id": "45afbc3a",
   "metadata": {},
   "outputs": [],
   "source": [
    "\n",
    "session = Session.builder.configs(connection_parameters).create()\n",
    "session.sql(\"USE WAREHOUSE DEMO_WH\").collect()"
   ]
  },
  {
   "cell_type": "markdown",
   "id": "7f480023",
   "metadata": {},
   "source": [
    "### create_dataframe() function only accepts data as a list, tuple or a pandas DataFrame. "
   ]
  },
  {
   "cell_type": "code",
   "execution_count": null,
   "id": "37d66ef2",
   "metadata": {},
   "outputs": [],
   "source": [
    "test = session.create_dataframe({1, 2, 3, 4}, schema=[\"a\"]) \n"
   ]
  },
  {
   "cell_type": "code",
   "execution_count": null,
   "id": "6aee3b9d",
   "metadata": {},
   "outputs": [],
   "source": [
    "\n",
    "# create a dataframe by inferring a schema from the data\n",
    "\n",
    "test = session.create_dataframe([1, 2, 3, 4], schema=[\"a\"])\n",
    "test.show()\n",
    "type(test)\n",
    "\n",
    "test = session.create_dataframe([[1, 2, 3, 123],[1, 2, 3, \"ABC\"],[1, 2, 3, \"HPC\"],[1, 2, 3, \"EMD\"]], schema=[\"a\",\"b\",\"c\",\"d\"])\n",
    "test.show()\n",
    "\n",
    "test = session.create_dataframe([[1, 2, 3, '26-01-2022'],[1, 2, 3, '26-01-2022'],[1, 2, 3, '26-01-2022'],[1, 2, 3, '26-01-2022']], schema=[\"a\",\"b\",\"c\",\"d\"])\n",
    "test.show()\n",
    "\n",
    "test = session.create_dataframe([[1, 2, 3, 26.897],[1, 2, 3, 27.897],[1, 2, 3, 29.897],[1, 2, 3, 39.897]], schema=[\"a\",\"b\",\"c\",\"d\"])\n",
    "test.show(1)\n",
    "\n",
    "test = session.create_dataframe([[1, 2, 3, None],[1, 2, 3, None],[1, 2, 3, None],[1, 2, 3, None]], schema=[\"a\",\"b\",\"c\",\"d\"])\n",
    "test.show()\n",
    "\n",
    "test = session.create_dataframe([[1, 2, 3, {\"a\":\"hi\"}],[1, 2, 3, None],[1, 2, 3, {\"a\":\"Bye\"}],[1, 2, 3, {\"a\":\"hello\"}]], schema=[\"a\",\"b\",\"c\",\"d\"])\n",
    "test.show()\n",
    "\n"
   ]
  },
  {
   "cell_type": "code",
   "execution_count": 13,
   "id": "459cc7a6",
   "metadata": {},
   "outputs": [
    {
     "name": "stdout",
     "output_type": "stream",
     "text": [
      "---------------------------------\n",
      "|\"A\"  |\"B\"  |\"C\"  |\"D\"          |\n",
      "---------------------------------\n",
      "|1    |2    |3    |[            |\n",
      "|     |     |     |  \"Hi\"       |\n",
      "|     |     |     |]            |\n",
      "|1    |2    |3    |NULL         |\n",
      "|1    |2    |3    |[            |\n",
      "|     |     |     |  \"Hello\"    |\n",
      "|     |     |     |]            |\n",
      "|1    |2    |3    |[            |\n",
      "|     |     |     |  \"Namaste\"  |\n",
      "|     |     |     |]            |\n",
      "---------------------------------\n",
      "\n"
     ]
    },
    {
     "data": {
      "text/plain": [
       "snowflake.snowpark.table.Table"
      ]
     },
     "execution_count": 13,
     "metadata": {},
     "output_type": "execute_result"
    }
   ],
   "source": [
    "test = session.create_dataframe([[1, 2, 3, [\"Hi\"]],[1, 2, 3, None],[1, 2, 3,[\"Hello\"] ],[1, 2, 3, [\"Namaste\"]]], schema=[\"a\",\"b\",\"c\",\"d\"])\n",
    "\n",
    "test1 = test.cache_result()\n",
    "test1.show()\n",
    "type(test1)"
   ]
  },
  {
   "cell_type": "code",
   "execution_count": null,
   "id": "11d2921d",
   "metadata": {},
   "outputs": [],
   "source": [
    "\n",
    "# Check performance\n",
    "\n",
    "begin = time.time()\n",
    "test.show()\n",
    "end = time.time()\n",
    "print(f\"Total runtime of the program is {end - begin}\")"
   ]
  },
  {
   "cell_type": "code",
   "execution_count": null,
   "id": "90e2bd61",
   "metadata": {},
   "outputs": [],
   "source": [
    "\n",
    "begin = time.time()\n",
    "test1.show()\n",
    "end = time.time()\n",
    "print(f\"Total runtime of the program is {end - begin}\")"
   ]
  }
 ],
 "metadata": {
  "kernelspec": {
   "display_name": ".venv",
   "language": "python",
   "name": "python3"
  },
  "language_info": {
   "codemirror_mode": {
    "name": "ipython",
    "version": 3
   },
   "file_extension": ".py",
   "mimetype": "text/x-python",
   "name": "python",
   "nbconvert_exporter": "python",
   "pygments_lexer": "ipython3",
   "version": "3.8.0"
  }
 },
 "nbformat": 4,
 "nbformat_minor": 5
}
