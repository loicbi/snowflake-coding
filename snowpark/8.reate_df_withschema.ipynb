{
 "cells": [
  {
   "cell_type": "code",
   "execution_count": 6,
   "id": "7727bd62",
   "metadata": {},
   "outputs": [],
   "source": [
    "import os\n",
    "from snowflake.snowpark.types import StructType, StructField, DateType, StringType, IntegerType, DecimalType\n",
    "from snowflake.snowpark import Session\n",
    "from snowflake.snowpark.functions import col\n",
    "import time\n"
   ]
  },
  {
   "cell_type": "code",
   "execution_count": 2,
   "id": "c4cc45a6",
   "metadata": {},
   "outputs": [],
   "source": [
    "connection_parameters = {\n",
    "    \"user\":'andreloicfreddy.seka@mckesson.ca',\n",
    "    \"authenticator\":'externalbrowser',\n",
    "    # \"user\":'DEV_SSIS_INGEST_AU',\n",
    "    # \"password\":'PbIXsy$3yg7o=M[f',\n",
    "    \"account\":'mckesson.canada-central.azure',\n",
    "    \"warehouse\": \"DEMO_WH\",\n",
    "    \"database\": \"DEMO_DB\",\n",
    "    \"schema\": \"PUBLIC\"\n",
    "}"
   ]
  },
  {
   "cell_type": "code",
   "execution_count": 3,
   "id": "45afbc3a",
   "metadata": {},
   "outputs": [
    {
     "name": "stderr",
     "output_type": "stream",
     "text": [
      "c:\\repos\\snowflake-coding\\.venv\\lib\\site-packages\\snowflake\\connector\\config_manager.py:351: UserWarning: Bad owner or permissions on C:\\Users\\aseka\\.snowflake\\connections.toml\n",
      "  warn(f\"Bad owner or permissions on {str(filep)}{chmod_message}\")\n"
     ]
    },
    {
     "name": "stdout",
     "output_type": "stream",
     "text": [
      "Initiating login request with your identity provider. A browser window should have opened for you to complete the login. If you can't see it, check existing browser windows, or your OS settings. Press CTRL+C to abort and try again...\n",
      "Going to open: https://login.microsoftonline.com/da67ef1b-ca59-4db2-9a8c-aa8d94617a16/saml2?SAMLRequest=pZNPb9sgGIe%2FisXONthJ7AQlqbL86aK1TZq43bQbBpKyYPAA12k%2F%2FYjTSN2hvUzywYLnhYf3B8OrYymDZ26s0GoE4giBgCuqmVD7EXjIF2EfBNYRxYjUio%2FAC7fgajy0pJQVntTuSW34n5pbF%2FiFlMXtxAjURmFNrLBYkZJb7CjeTm5vcBIhXBntNNUSvCv5vIJYy43zhpcSZoXXe3KuwhA2TRM1nUibPUwQQhANoKdOyJcLf%2FRn%2BoCPIeqeeE94fP3m9lWocws%2B0yrOkMXf8nwdrlfbHASTi%2BpUK1uX3Gy5eRaUP2xuzgLWG9xOv8%2B329VdRIkijISUK2eIjMhrbXhklW52khw41WVVO79D5P%2FgjjMo9V74JixnI1AdBDsuXP1YM9brFMWmKn5cz%2Fuvx%2Bn9ddGh97OfK2Ps%2FpBl%2Be90NacgeLyknJxSXlpb86U6Zev8EEp6Icr8l6MMoxR30qjX7f0CwcxnKxRxbeXlAK1HVApqtNU7p5UUireWjKQZ38VFSElvEHZZkYQD0qchIX026KZxRuIUnhJPwPkW4VbEjP%2BnN0P4fqW3y3nn81rO1loK%2BhIstCmJ%2BzjOOIrbEcHCXYtiXhIhJ4wZbq2PVUrdTA0nzr8BZ2oO4Pi867%2BvYPwX&RelayState=ver%3A1-hint%3A343633253666-ETMsDgAAAZfjtUKBABRBRVMvQ0JDL1BLQ1M1UGFkZGluZwEAABAAEGgp5VfFc%2F5eKGqA4cLqEwUAAACgLDQgRluXmH%2BRYdLq5scJPnfTKwCQdgqEwvc64SUimP%2BwOU9Ylv0mCcS5oitEu9dPetMO5w7tscNxNMAtsuzmwRpLdowo1evftne3ZmqEtVTPtsM6HctZF7S5UAHlZpkiCvoLGxLIVUZwHiP%2BJ2IMmJHwvkqU7BkUAyJ9NXg3FV1OXZRqirr6Vlhp8OBUy56lwTE6eOM4ZylVfjNpvAh58AAU5AiT%2FchB1q%2Fdbg%2BrmNOkF3nf66I%3D to authenticate...\n"
     ]
    },
    {
     "data": {
      "text/plain": [
       "[Row(status='Statement executed successfully.')]"
      ]
     },
     "execution_count": 3,
     "metadata": {},
     "output_type": "execute_result"
    }
   ],
   "source": [
    "\n",
    "session = Session.builder.configs(connection_parameters).create()\n",
    "session.sql(\"USE WAREHOUSE DEMO_WH\").collect()"
   ]
  },
  {
   "cell_type": "code",
   "execution_count": null,
   "id": "6301f1b3",
   "metadata": {},
   "outputs": [],
   "source": [
    "schema = StructType([\n",
    "    StructField('one', IntegerType()),\n",
    "    StructField('two', IntegerType()),\n",
    "    StructField('three', IntegerType()),\n",
    "    StructField('four', DateType()),\n",
    "])"
   ]
  },
  {
   "cell_type": "code",
   "execution_count": null,
   "id": "ffd08ab5",
   "metadata": {},
   "outputs": [
    {
     "name": "stdout",
     "output_type": "stream",
     "text": [
      "--------------------------------\n",
      "|\"A\"  |\"B\"  |\"C\"  |\"D\"         |\n",
      "--------------------------------\n",
      "|1    |2    |3    |2022-01-26  |\n",
      "|1    |2    |3    |2022-01-26  |\n",
      "|1    |2    |3    |2022-01-26  |\n",
      "|1    |2    |3    |2022-01-26  |\n",
      "--------------------------------\n",
      "\n"
     ]
    }
   ],
   "source": [
    "test = session.create_dataframe([[1, 2, 3, '2022-01-26'],[1, 2, 3, '2022-01-26'],[1, 2, 3, '2022-01-26'],[1, 2, 3, '2022-01-26']], schema=[\"a\",\"b\",\"c\",\"d\"])\n",
    "test.show()"
   ]
  },
  {
   "cell_type": "code",
   "execution_count": 12,
   "id": "52e7f935",
   "metadata": {},
   "outputs": [
    {
     "name": "stdout",
     "output_type": "stream",
     "text": [
      "----------------------------------------\n",
      "|\"ONE\"  |\"TWO\"  |\"THREE\"  |\"FOUR\"      |\n",
      "----------------------------------------\n",
      "|1      |2      |3        |2022-01-26  |\n",
      "|1      |2      |3        |2022-01-26  |\n",
      "|1      |2      |3        |2022-01-26  |\n",
      "|1      |2      |3        |2022-01-26  |\n",
      "----------------------------------------\n",
      "\n"
     ]
    }
   ],
   "source": [
    "test = session.create_dataframe([[1, 2, 3, '2022-01-26'],[1, 2, 3, '2022-01-26'],[1, 2, 3, '2022-01-26'],[1, 2, 3, '2022-01-26']], schema=schema)\n",
    "test.show()"
   ]
  },
  {
   "cell_type": "code",
   "execution_count": 14,
   "id": "d215addf",
   "metadata": {},
   "outputs": [
    {
     "data": {
      "text/plain": [
       "StructType([StructField('ONE', LongType(), nullable=True), StructField('TWO', LongType(), nullable=True), StructField('THREE', LongType(), nullable=True), StructField('FOUR', DateType(), nullable=True)])"
      ]
     },
     "execution_count": 14,
     "metadata": {},
     "output_type": "execute_result"
    }
   ],
   "source": [
    "test.schema"
   ]
  }
 ],
 "metadata": {
  "kernelspec": {
   "display_name": ".venv",
   "language": "python",
   "name": "python3"
  },
  "language_info": {
   "codemirror_mode": {
    "name": "ipython",
    "version": 3
   },
   "file_extension": ".py",
   "mimetype": "text/x-python",
   "name": "python",
   "nbconvert_exporter": "python",
   "pygments_lexer": "ipython3",
   "version": "3.8.0"
  }
 },
 "nbformat": 4,
 "nbformat_minor": 5
}
